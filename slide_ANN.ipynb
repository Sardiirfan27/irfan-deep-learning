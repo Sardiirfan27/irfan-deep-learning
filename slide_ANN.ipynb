{
  "nbformat": 4,
  "nbformat_minor": 0,
  "metadata": {
    "colab": {
      "provenance": [],
      "authorship_tag": "ABX9TyPFCM3y/Xc/NedAp2SFZG/R",
      "include_colab_link": true
    },
    "kernelspec": {
      "name": "python3",
      "display_name": "Python 3"
    },
    "language_info": {
      "name": "python"
    }
  },
  "cells": [
    {
      "cell_type": "markdown",
      "metadata": {
        "id": "view-in-github",
        "colab_type": "text"
      },
      "source": [
        "<a href=\"https://colab.research.google.com/github/Sardiirfan27/irfan-deep-learning/blob/main/slide_ANN.ipynb\" target=\"_parent\"><img src=\"https://colab.research.google.com/assets/colab-badge.svg\" alt=\"Open In Colab\"/></a>"
      ]
    },
    {
      "cell_type": "markdown",
      "source": [
        "faff"
      ],
      "metadata": {
        "id": "ZFb7A2HdWv_z"
      }
    },
    {
      "cell_type": "code",
      "source": [],
      "metadata": {
        "id": "jkF8wVJ3Wvf0"
      },
      "execution_count": null,
      "outputs": []
    }
  ]
}